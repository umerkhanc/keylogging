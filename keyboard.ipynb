{
 "cells": [
  {
   "cell_type": "code",
   "execution_count": 3,
   "id": "acaae299",
   "metadata": {},
   "outputs": [
    {
     "ename": "AttributeError",
     "evalue": "'function' object has no attribute 'name'",
     "output_type": "error",
     "traceback": [
      "\u001b[1;31m---------------------------------------------------------------------------\u001b[0m",
      "\u001b[1;31mAttributeError\u001b[0m                            Traceback (most recent call last)",
      "Input \u001b[1;32mIn [3]\u001b[0m, in \u001b[0;36m<cell line: 1>\u001b[1;34m()\u001b[0m\n\u001b[1;32m----> 1\u001b[0m \u001b[38;5;28;01mimport\u001b[39;00m \u001b[38;5;21;01mkeyboard\u001b[39;00m\n\u001b[0;32m      3\u001b[0m \u001b[38;5;28;01mdef\u001b[39;00m \u001b[38;5;21mon_press\u001b[39m(key):\n\u001b[0;32m      4\u001b[0m     \u001b[38;5;28;01mwith\u001b[39;00m \u001b[38;5;28mopen\u001b[39m(\u001b[38;5;124m\"\u001b[39m\u001b[38;5;124mtyping_log.txt\u001b[39m\u001b[38;5;124m\"\u001b[39m, \u001b[38;5;124m\"\u001b[39m\u001b[38;5;124ma\u001b[39m\u001b[38;5;124m\"\u001b[39m) \u001b[38;5;28;01mas\u001b[39;00m file:\n",
      "File \u001b[1;32m~\\Pictures\\keyboard.py:7\u001b[0m, in \u001b[0;36m<module>\u001b[1;34m\u001b[0m\n\u001b[0;32m      4\u001b[0m     \u001b[38;5;28;01mwith\u001b[39;00m \u001b[38;5;28mopen\u001b[39m(\u001b[38;5;124m\"\u001b[39m\u001b[38;5;124mtyping_log.txt\u001b[39m\u001b[38;5;124m\"\u001b[39m, \u001b[38;5;124m\"\u001b[39m\u001b[38;5;124ma\u001b[39m\u001b[38;5;124m\"\u001b[39m) \u001b[38;5;28;01mas\u001b[39;00m file:\n\u001b[0;32m      5\u001b[0m         file\u001b[38;5;241m.\u001b[39mwrite(key\u001b[38;5;241m.\u001b[39mname)\n\u001b[1;32m----> 7\u001b[0m \u001b[43mkeyboard\u001b[49m\u001b[38;5;241;43m.\u001b[39;49m\u001b[43mon_press\u001b[49m\u001b[43m(\u001b[49m\u001b[43mon_press\u001b[49m\u001b[43m)\u001b[49m\n\u001b[0;32m      9\u001b[0m \u001b[38;5;28mprint\u001b[39m(\u001b[38;5;124m\"\u001b[39m\u001b[38;5;124mRecording started. Press \u001b[39m\u001b[38;5;124m'\u001b[39m\u001b[38;5;124mesc\u001b[39m\u001b[38;5;124m'\u001b[39m\u001b[38;5;124m to stop.\u001b[39m\u001b[38;5;124m\"\u001b[39m)\n\u001b[0;32m     10\u001b[0m keyboard\u001b[38;5;241m.\u001b[39mwait(\u001b[38;5;124m'\u001b[39m\u001b[38;5;124mesc\u001b[39m\u001b[38;5;124m'\u001b[39m)\n",
      "File \u001b[1;32m~\\Pictures\\keyboard.py:5\u001b[0m, in \u001b[0;36mon_press\u001b[1;34m(key)\u001b[0m\n\u001b[0;32m      3\u001b[0m \u001b[38;5;28;01mdef\u001b[39;00m \u001b[38;5;21mon_press\u001b[39m(key):\n\u001b[0;32m      4\u001b[0m     \u001b[38;5;28;01mwith\u001b[39;00m \u001b[38;5;28mopen\u001b[39m(\u001b[38;5;124m\"\u001b[39m\u001b[38;5;124mtyping_log.txt\u001b[39m\u001b[38;5;124m\"\u001b[39m, \u001b[38;5;124m\"\u001b[39m\u001b[38;5;124ma\u001b[39m\u001b[38;5;124m\"\u001b[39m) \u001b[38;5;28;01mas\u001b[39;00m file:\n\u001b[1;32m----> 5\u001b[0m         file\u001b[38;5;241m.\u001b[39mwrite(\u001b[43mkey\u001b[49m\u001b[38;5;241;43m.\u001b[39;49m\u001b[43mname\u001b[49m)\n",
      "\u001b[1;31mAttributeError\u001b[0m: 'function' object has no attribute 'name'"
     ]
    }
   ],
   "source": [
    "import keyboard\n",
    "\n",
    "def on_press(key):\n",
    "    with open(\"typing_log.txt\", \"a\") as file:\n",
    "        file.write(key.name)\n",
    "\n",
    "keyboard.on_press(on_press)\n",
    "\n",
    "print(\"Recording started. Press 'esc' to stop.\")\n",
    "keyboard.wait('esc')\n",
    "print(\"Recording stopped.\")\n"
   ]
  },
  {
   "cell_type": "code",
   "execution_count": 2,
   "id": "4515fb4c",
   "metadata": {},
   "outputs": [
    {
     "name": "stdout",
     "output_type": "stream",
     "text": [
      "Collecting keyboardNote: you may need to restart the kernel to use updated packages.\n",
      "  Downloading keyboard-0.13.5-py3-none-any.whl (58 kB)\n",
      "Installing collected packages: keyboard\n",
      "Successfully installed keyboard-0.13.5\n",
      "\n"
     ]
    },
    {
     "name": "stderr",
     "output_type": "stream",
     "text": [
      "WARNING: Ignoring invalid distribution -p (e:\\python\\lib\\site-packages)\n",
      "WARNING: Ignoring invalid distribution -p (e:\\python\\lib\\site-packages)\n",
      "WARNING: Ignoring invalid distribution -ip (e:\\python\\lib\\site-packages)\n",
      "WARNING: Ignoring invalid distribution - (e:\\python\\lib\\site-packages)\n",
      "WARNING: Ignoring invalid distribution -p (e:\\python\\lib\\site-packages)\n",
      "WARNING: Ignoring invalid distribution -p (e:\\python\\lib\\site-packages)\n",
      "WARNING: Ignoring invalid distribution -ip (e:\\python\\lib\\site-packages)\n",
      "WARNING: Ignoring invalid distribution - (e:\\python\\lib\\site-packages)\n",
      "WARNING: Ignoring invalid distribution -p (e:\\python\\lib\\site-packages)\n",
      "WARNING: Ignoring invalid distribution -p (e:\\python\\lib\\site-packages)\n",
      "WARNING: Ignoring invalid distribution -ip (e:\\python\\lib\\site-packages)\n",
      "WARNING: Ignoring invalid distribution - (e:\\python\\lib\\site-packages)\n",
      "WARNING: Ignoring invalid distribution -p (e:\\python\\lib\\site-packages)\n",
      "WARNING: Ignoring invalid distribution -p (e:\\python\\lib\\site-packages)\n",
      "WARNING: Ignoring invalid distribution -ip (e:\\python\\lib\\site-packages)\n",
      "WARNING: Ignoring invalid distribution - (e:\\python\\lib\\site-packages)\n",
      "WARNING: Ignoring invalid distribution -p (e:\\python\\lib\\site-packages)\n",
      "WARNING: Ignoring invalid distribution -p (e:\\python\\lib\\site-packages)\n",
      "WARNING: Ignoring invalid distribution -ip (e:\\python\\lib\\site-packages)\n",
      "WARNING: Ignoring invalid distribution - (e:\\python\\lib\\site-packages)\n",
      "WARNING: Ignoring invalid distribution -p (e:\\python\\lib\\site-packages)\n",
      "WARNING: Ignoring invalid distribution -p (e:\\python\\lib\\site-packages)\n",
      "WARNING: Ignoring invalid distribution -ip (e:\\python\\lib\\site-packages)\n",
      "WARNING: Ignoring invalid distribution - (e:\\python\\lib\\site-packages)\n",
      "WARNING: Ignoring invalid distribution -p (e:\\python\\lib\\site-packages)\n",
      "WARNING: Ignoring invalid distribution -p (e:\\python\\lib\\site-packages)\n",
      "WARNING: Ignoring invalid distribution -ip (e:\\python\\lib\\site-packages)\n",
      "WARNING: Ignoring invalid distribution - (e:\\python\\lib\\site-packages)\n",
      "WARNING: You are using pip version 21.1.1; however, version 22.3.1 is available.\n",
      "You should consider upgrading via the 'e:\\python\\python.exe -m pip install --upgrade pip' command.\n"
     ]
    }
   ],
   "source": [
    "pip install keyboard\n"
   ]
  },
  {
   "cell_type": "code",
   "execution_count": 5,
   "id": "4c13d4d7",
   "metadata": {},
   "outputs": [
    {
     "ename": "AttributeError",
     "evalue": "'function' object has no attribute 'name'",
     "output_type": "error",
     "traceback": [
      "\u001b[1;31m---------------------------------------------------------------------------\u001b[0m",
      "\u001b[1;31mAttributeError\u001b[0m                            Traceback (most recent call last)",
      "Input \u001b[1;32mIn [5]\u001b[0m, in \u001b[0;36m<cell line: 1>\u001b[1;34m()\u001b[0m\n\u001b[1;32m----> 1\u001b[0m \u001b[38;5;28;01mimport\u001b[39;00m \u001b[38;5;21;01mkeyboard\u001b[39;00m\n\u001b[0;32m      3\u001b[0m \u001b[38;5;28;01mdef\u001b[39;00m \u001b[38;5;21mon_press\u001b[39m(key):\n\u001b[0;32m      4\u001b[0m     \u001b[38;5;28;01mwith\u001b[39;00m \u001b[38;5;28mopen\u001b[39m(\u001b[38;5;124m\"\u001b[39m\u001b[38;5;124mtyping_log.txt\u001b[39m\u001b[38;5;124m\"\u001b[39m, \u001b[38;5;124m\"\u001b[39m\u001b[38;5;124ma\u001b[39m\u001b[38;5;124m\"\u001b[39m) \u001b[38;5;28;01mas\u001b[39;00m file:\n",
      "File \u001b[1;32m~\\Pictures\\keyboard.py:7\u001b[0m, in \u001b[0;36m<module>\u001b[1;34m\u001b[0m\n\u001b[0;32m      4\u001b[0m     \u001b[38;5;28;01mwith\u001b[39;00m \u001b[38;5;28mopen\u001b[39m(\u001b[38;5;124m\"\u001b[39m\u001b[38;5;124mtyping_log.txt\u001b[39m\u001b[38;5;124m\"\u001b[39m, \u001b[38;5;124m\"\u001b[39m\u001b[38;5;124ma\u001b[39m\u001b[38;5;124m\"\u001b[39m) \u001b[38;5;28;01mas\u001b[39;00m file:\n\u001b[0;32m      5\u001b[0m         file\u001b[38;5;241m.\u001b[39mwrite(key\u001b[38;5;241m.\u001b[39mname)\n\u001b[1;32m----> 7\u001b[0m \u001b[43mkeyboard\u001b[49m\u001b[38;5;241;43m.\u001b[39;49m\u001b[43mon_press\u001b[49m\u001b[43m(\u001b[49m\u001b[43mon_press\u001b[49m\u001b[43m)\u001b[49m\n\u001b[0;32m      9\u001b[0m \u001b[38;5;28mprint\u001b[39m(\u001b[38;5;124m\"\u001b[39m\u001b[38;5;124mRecording started. Press \u001b[39m\u001b[38;5;124m'\u001b[39m\u001b[38;5;124mesc\u001b[39m\u001b[38;5;124m'\u001b[39m\u001b[38;5;124m to stop.\u001b[39m\u001b[38;5;124m\"\u001b[39m)\n\u001b[0;32m     10\u001b[0m keyboard\u001b[38;5;241m.\u001b[39mwait(\u001b[38;5;124m'\u001b[39m\u001b[38;5;124mesc\u001b[39m\u001b[38;5;124m'\u001b[39m)\n",
      "File \u001b[1;32m~\\Pictures\\keyboard.py:5\u001b[0m, in \u001b[0;36mon_press\u001b[1;34m(key)\u001b[0m\n\u001b[0;32m      3\u001b[0m \u001b[38;5;28;01mdef\u001b[39;00m \u001b[38;5;21mon_press\u001b[39m(key):\n\u001b[0;32m      4\u001b[0m     \u001b[38;5;28;01mwith\u001b[39;00m \u001b[38;5;28mopen\u001b[39m(\u001b[38;5;124m\"\u001b[39m\u001b[38;5;124mtyping_log.txt\u001b[39m\u001b[38;5;124m\"\u001b[39m, \u001b[38;5;124m\"\u001b[39m\u001b[38;5;124ma\u001b[39m\u001b[38;5;124m\"\u001b[39m) \u001b[38;5;28;01mas\u001b[39;00m file:\n\u001b[1;32m----> 5\u001b[0m         file\u001b[38;5;241m.\u001b[39mwrite(\u001b[43mkey\u001b[49m\u001b[38;5;241;43m.\u001b[39;49m\u001b[43mname\u001b[49m)\n",
      "\u001b[1;31mAttributeError\u001b[0m: 'function' object has no attribute 'name'"
     ]
    }
   ],
   "source": [
    "import keyboard\n",
    "\n",
    "def on_press(key):\n",
    "    with open(\"typing_log.txt\", \"a\") as file:\n",
    "        file.write(key.name)\n",
    "\n",
    "keyboard.on_press(on_press)\n",
    "\n",
    "print(\"Recording started. Press 'esc' to stop.\")\n",
    "keyboard.wait('esc')\n",
    "print(\"Recording stopped.\")\n"
   ]
  },
  {
   "cell_type": "code",
   "execution_count": null,
   "id": "13cf9d19",
   "metadata": {},
   "outputs": [],
   "source": []
  }
 ],
 "metadata": {
  "kernelspec": {
   "display_name": "Python 3 (ipykernel)",
   "language": "python",
   "name": "python3"
  },
  "language_info": {
   "codemirror_mode": {
    "name": "ipython",
    "version": 3
   },
   "file_extension": ".py",
   "mimetype": "text/x-python",
   "name": "python",
   "nbconvert_exporter": "python",
   "pygments_lexer": "ipython3",
   "version": "3.8.10"
  }
 },
 "nbformat": 4,
 "nbformat_minor": 5
}
